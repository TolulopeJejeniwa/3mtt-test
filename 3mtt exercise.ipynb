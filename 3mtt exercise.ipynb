{
 "cells": [
  {
   "cell_type": "markdown",
   "id": "e76386cf",
   "metadata": {},
   "source": [
    "#### Tolulope Jejeniwa\n",
    "Phone Number: 07033810503"
   ]
  },
  {
   "cell_type": "code",
   "execution_count": 14,
   "id": "6555506c",
   "metadata": {},
   "outputs": [],
   "source": [
    "import pandas as pd\n",
    "import numpy as np\n",
    "import matplotlib.pyplot as plt\n",
    "import seaborn as sns"
   ]
  },
  {
   "cell_type": "code",
   "execution_count": 53,
   "id": "7342b23a",
   "metadata": {},
   "outputs": [],
   "source": [
    "data= {\"Name\":[\"Abayomi\", \"Kunle\", \"Kemi\", \"Durotoye\", \"Tola\", \"Folakemi\", \"Shade\", \"Ojo\", \"Gbenga\", \"Olawale\"],\n",
    "       \"Age\":[23,30,25,28,18,31,26,33,26,24],\n",
    "      \"Gender\": ['male', 'male', 'female', 'male', 'female', 'female', 'female', 'male', 'male', 'male']}"
   ]
  },
  {
   "cell_type": "code",
   "execution_count": 54,
   "id": "caa3dbf9",
   "metadata": {},
   "outputs": [
    {
     "data": {
      "text/plain": [
       "{'Name': ['Abayomi',\n",
       "  'Kunle',\n",
       "  'Kemi',\n",
       "  'Durotoye',\n",
       "  'Tola',\n",
       "  'Folakemi',\n",
       "  'Shade',\n",
       "  'Ojo',\n",
       "  'Gbenga',\n",
       "  'Olawale'],\n",
       " 'Age': [23, 30, 25, 28, 18, 31, 26, 33, 26, 24],\n",
       " 'Gender': ['male',\n",
       "  'male',\n",
       "  'female',\n",
       "  'male',\n",
       "  'female',\n",
       "  'female',\n",
       "  'female',\n",
       "  'male',\n",
       "  'male',\n",
       "  'male']}"
      ]
     },
     "execution_count": 54,
     "metadata": {},
     "output_type": "execute_result"
    }
   ],
   "source": [
    "data"
   ]
  },
  {
   "cell_type": "code",
   "execution_count": 55,
   "id": "55bd33b2",
   "metadata": {},
   "outputs": [],
   "source": [
    "df = pd.DataFrame(data)"
   ]
  },
  {
   "cell_type": "code",
   "execution_count": 56,
   "id": "cb5ccee0",
   "metadata": {},
   "outputs": [
    {
     "data": {
      "text/html": [
       "<div>\n",
       "<style scoped>\n",
       "    .dataframe tbody tr th:only-of-type {\n",
       "        vertical-align: middle;\n",
       "    }\n",
       "\n",
       "    .dataframe tbody tr th {\n",
       "        vertical-align: top;\n",
       "    }\n",
       "\n",
       "    .dataframe thead th {\n",
       "        text-align: right;\n",
       "    }\n",
       "</style>\n",
       "<table border=\"1\" class=\"dataframe\">\n",
       "  <thead>\n",
       "    <tr style=\"text-align: right;\">\n",
       "      <th></th>\n",
       "      <th>Name</th>\n",
       "      <th>Age</th>\n",
       "      <th>Gender</th>\n",
       "    </tr>\n",
       "  </thead>\n",
       "  <tbody>\n",
       "    <tr>\n",
       "      <th>0</th>\n",
       "      <td>Abayomi</td>\n",
       "      <td>23</td>\n",
       "      <td>male</td>\n",
       "    </tr>\n",
       "    <tr>\n",
       "      <th>1</th>\n",
       "      <td>Kunle</td>\n",
       "      <td>30</td>\n",
       "      <td>male</td>\n",
       "    </tr>\n",
       "    <tr>\n",
       "      <th>2</th>\n",
       "      <td>Kemi</td>\n",
       "      <td>25</td>\n",
       "      <td>female</td>\n",
       "    </tr>\n",
       "    <tr>\n",
       "      <th>3</th>\n",
       "      <td>Durotoye</td>\n",
       "      <td>28</td>\n",
       "      <td>male</td>\n",
       "    </tr>\n",
       "    <tr>\n",
       "      <th>4</th>\n",
       "      <td>Tola</td>\n",
       "      <td>18</td>\n",
       "      <td>female</td>\n",
       "    </tr>\n",
       "    <tr>\n",
       "      <th>5</th>\n",
       "      <td>Folakemi</td>\n",
       "      <td>31</td>\n",
       "      <td>female</td>\n",
       "    </tr>\n",
       "    <tr>\n",
       "      <th>6</th>\n",
       "      <td>Shade</td>\n",
       "      <td>26</td>\n",
       "      <td>female</td>\n",
       "    </tr>\n",
       "    <tr>\n",
       "      <th>7</th>\n",
       "      <td>Ojo</td>\n",
       "      <td>33</td>\n",
       "      <td>male</td>\n",
       "    </tr>\n",
       "    <tr>\n",
       "      <th>8</th>\n",
       "      <td>Gbenga</td>\n",
       "      <td>26</td>\n",
       "      <td>male</td>\n",
       "    </tr>\n",
       "    <tr>\n",
       "      <th>9</th>\n",
       "      <td>Olawale</td>\n",
       "      <td>24</td>\n",
       "      <td>male</td>\n",
       "    </tr>\n",
       "  </tbody>\n",
       "</table>\n",
       "</div>"
      ],
      "text/plain": [
       "       Name  Age  Gender\n",
       "0   Abayomi   23    male\n",
       "1     Kunle   30    male\n",
       "2      Kemi   25  female\n",
       "3  Durotoye   28    male\n",
       "4      Tola   18  female\n",
       "5  Folakemi   31  female\n",
       "6     Shade   26  female\n",
       "7       Ojo   33    male\n",
       "8    Gbenga   26    male\n",
       "9   Olawale   24    male"
      ]
     },
     "execution_count": 56,
     "metadata": {},
     "output_type": "execute_result"
    }
   ],
   "source": [
    "df"
   ]
  },
  {
   "cell_type": "code",
   "execution_count": 57,
   "id": "37db9d19",
   "metadata": {},
   "outputs": [
    {
     "data": {
      "text/plain": [
       "array(['Abayomi', 'Kunle', 'Kemi', 'Durotoye', 'Tola', 'Folakemi',\n",
       "       'Shade', 'Ojo', 'Gbenga', 'Olawale'], dtype=object)"
      ]
     },
     "execution_count": 57,
     "metadata": {},
     "output_type": "execute_result"
    }
   ],
   "source": [
    "df['Name'].unique()"
   ]
  },
  {
   "cell_type": "code",
   "execution_count": 58,
   "id": "cf017a78",
   "metadata": {},
   "outputs": [
    {
     "data": {
      "text/plain": [
       "<Axes: >"
      ]
     },
     "execution_count": 58,
     "metadata": {},
     "output_type": "execute_result"
    },
    {
     "data": {
      "image/png": "[encoded data removed]",
      "text/plain": [
       "<Figure size 640x480 with 1 Axes>"
      ]
     },
     "metadata": {},
     "output_type": "display_data"
    }
   ],
   "source": [
    "df['Age'].plot(kind ='bar')"
   ]
  },
  {
   "cell_type": "markdown",
   "id": "25317e03",
   "metadata": {},
   "source": [
    "#### QUESTIONS:\n",
    "1. What do you understand by Data Science and Data Analysis?\n",
    "2. What is the lifecycle of data analyst?\n",
    "3. What are the basic tools used for data analysis"
   ]
  },
  {
   "cell_type": "markdown",
   "id": "273cc4cf",
   "metadata": {},
   "source": [
    "#### ANSWER:\n",
    "1. Data analysis has to do with analysing data and create visualizations with the aim of drawing insight that could be used in decision making. While Data Science has to do with analyzing and predicting what could happen in the future with data.\n",
    "\n",
    "2. The Lifecycle of a Data analyst is: \n",
    "   a. Understanding the problem\n",
    "   b. Data Collection\n",
    "   c. Data Cleaning\n",
    "   d. Data Analysis/Visualization\n",
    "   d. Evaluation"
   ]
  }
 ],
 "metadata": {
  "kernelspec": {
   "display_name": "Python 3 (ipykernel)",
   "language": "python",
   "name": "python3"
  },
  "language_info": {
   "codemirror_mode": {
    "name": "ipython",
    "version": 3
   },
   "file_extension": ".py",
   "mimetype": "text/x-python",
   "name": "python",
   "nbconvert_exporter": "python",
   "pygments_lexer": "ipython3",
   "version": "3.11.5"
  }
 },
 "nbformat": 4,
 "nbformat_minor": 5
}
